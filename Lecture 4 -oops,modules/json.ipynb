{
 "cells": [
  {
   "cell_type": "code",
   "execution_count": 1,
   "metadata": {},
   "outputs": [],
   "source": [
    "import json\n"
   ]
  },
  {
   "cell_type": "code",
   "execution_count": 4,
   "metadata": {},
   "outputs": [],
   "source": [
    "book={ \"name\" : \" learning python\", \"rate\": 100, \"pages\" : 900,\n",
    "      \"author\" :[{\"name\":\"a1\",\"age\" : 20 },{ \"name\":\"a2\",\"age\" : 30}]}"
   ]
  },
  {
   "cell_type": "code",
   "execution_count": 5,
   "metadata": {},
   "outputs": [],
   "source": [
    "with open( \"myjsonfile.json\",'w') as f:\n",
    "    json.dump(book,f)"
   ]
  },
  {
   "cell_type": "code",
   "execution_count": 11,
   "metadata": {},
   "outputs": [
    {
     "data": {
      "text/plain": [
       "'{\"name\": \" learning python\", \"rate\": 100, \"pages\": 900, \"author\": [{\"name\": \"a1\", \"age\": 20}, {\"name\": \"a2\", \"age\": 30}]}'"
      ]
     },
     "execution_count": 11,
     "metadata": {},
     "output_type": "execute_result"
    }
   ],
   "source": [
    "stri=json.dumps(book)# return a string\n",
    "stri"
   ]
  },
  {
   "cell_type": "code",
   "execution_count": 8,
   "metadata": {},
   "outputs": [],
   "source": [
    "# deseralize str to an object\n",
    "obj=json.loads(stri)"
   ]
  },
  {
   "cell_type": "code",
   "execution_count": 9,
   "metadata": {},
   "outputs": [
    {
     "data": {
      "text/plain": [
       "{'name': ' learning python',\n",
       " 'rate': 100,\n",
       " 'pages': 900,\n",
       " 'author': [{'name': 'a1', 'age': 20}, {'name': 'a2', 'age': 30}]}"
      ]
     },
     "execution_count": 9,
     "metadata": {},
     "output_type": "execute_result"
    }
   ],
   "source": [
    "obj"
   ]
  },
  {
   "cell_type": "code",
   "execution_count": 10,
   "metadata": {},
   "outputs": [
    {
     "data": {
      "text/plain": [
       "dict"
      ]
     },
     "execution_count": 10,
     "metadata": {},
     "output_type": "execute_result"
    }
   ],
   "source": [
    "type(obj)"
   ]
  },
  {
   "cell_type": "code",
   "execution_count": 12,
   "metadata": {},
   "outputs": [
    {
     "name": "stdout",
     "output_type": "stream",
     "text": [
      "{\"name\": \" learning python\", \"rate\": 100, \"pages\": 900, \"author\": [{\"name\": \"a1\", \"age\": 20}, {\"name\": \"a2\", \"age\": 30}]}\n"
     ]
    }
   ],
   "source": [
    "with open(\"myjsonfile.json\",\"r\") as f:\n",
    "    print(f.read())"
   ]
  },
  {
   "cell_type": "code",
   "execution_count": 14,
   "metadata": {},
   "outputs": [
    {
     "name": "stdout",
     "output_type": "stream",
     "text": [
      "{'author': [{'age': 20, 'name': 'a1'}, {'age': 30, 'name': 'a2'}],\n",
      " 'name': ' learning python',\n",
      " 'pages': 900,\n",
      " 'rate': 100}\n"
     ]
    }
   ],
   "source": [
    "import pprint# preety print\n",
    "with open(\"myjsonfile.json\",\"r\") as f:\n",
    "    data=json.load(f)\n",
    "    pprint.pprint(data)"
   ]
  },
  {
   "cell_type": "code",
   "execution_count": null,
   "metadata": {},
   "outputs": [],
   "source": []
  }
 ],
 "metadata": {
  "kernelspec": {
   "display_name": "Python 3",
   "language": "python",
   "name": "python3"
  },
  "language_info": {
   "codemirror_mode": {
    "name": "ipython",
    "version": 3
   },
   "file_extension": ".py",
   "mimetype": "text/x-python",
   "name": "python",
   "nbconvert_exporter": "python",
   "pygments_lexer": "ipython3",
   "version": "3.7.2"
  }
 },
 "nbformat": 4,
 "nbformat_minor": 4
}
