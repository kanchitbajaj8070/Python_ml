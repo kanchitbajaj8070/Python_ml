{
 "cells": [
  {
   "cell_type": "markdown",
   "metadata": {},
   "source": [
    "### 6 modes- r(read) , r+( read and write) ,w(write), w+(write and read),a(append),a+(append and read)"
   ]
  },
  {
   "cell_type": "markdown",
   "metadata": {},
   "source": [
    "### except a,a+ data will be over ridden and cursor will point at start. for a mode cursor points at the end of the file"
   ]
  },
  {
   "cell_type": "code",
   "execution_count": 27,
   "metadata": {},
   "outputs": [],
   "source": [
    "file=open('abc.txt','w')\n",
    "\n"
   ]
  },
  {
   "cell_type": "code",
   "execution_count": 29,
   "metadata": {},
   "outputs": [],
   "source": [
    "file.write(\" kun kun \")\n",
    "file .close()"
   ]
  },
  {
   "cell_type": "code",
   "execution_count": 34,
   "metadata": {},
   "outputs": [
    {
     "name": "stdout",
     "output_type": "stream",
     "text": [
      " kun kun bum bum bumbum bum bumbum bum bumbum bum bumbum bum bum\n"
     ]
    }
   ],
   "source": [
    "file=open('abc.txt','a+')\n",
    "file.write(\"bum bum bum\")\n",
    "file.close()\n",
    "file=open('abc.txt','r')\n",
    "print(file.read())\n",
    "file.close()"
   ]
  },
  {
   "cell_type": "code",
   "execution_count": 37,
   "metadata": {},
   "outputs": [
    {
     "name": "stdout",
     "output_type": "stream",
     "text": [
      "[' kun kun bum bum bumbu\\n', 'm b\\n', 'um bumbum bum bumbum bum\\n', ' bumbum bum bum']\n"
     ]
    }
   ],
   "source": [
    "file=open('abc.txt','r')\n",
    "l=file.readlines()\n",
    "print(l)\n",
    "file.close()"
   ]
  },
  {
   "cell_type": "code",
   "execution_count": 38,
   "metadata": {},
   "outputs": [
    {
     "data": {
      "text/plain": [
       "True"
      ]
     },
     "execution_count": 38,
     "metadata": {},
     "output_type": "execute_result"
    }
   ],
   "source": [
    "file.closed"
   ]
  },
  {
   "cell_type": "code",
   "execution_count": 41,
   "metadata": {},
   "outputs": [
    {
     "name": "stdout",
     "output_type": "stream",
     "text": [
      "False\n",
      "[' kun kun bum bum bumbu\\n', 'm b\\n', 'um bumbum bum bumbum bum\\n', ' bumbum bum bum']\n"
     ]
    }
   ],
   "source": [
    "with open('abc.txt',\"r\") as f:\n",
    "    print(f.closed)\n",
    "    print(f.readlines())\n",
    "    ## better automatically closes the file"
   ]
  },
  {
   "cell_type": "code",
   "execution_count": null,
   "metadata": {},
   "outputs": [],
   "source": []
  }
 ],
 "metadata": {
  "kernelspec": {
   "display_name": "Python 3",
   "language": "python",
   "name": "python3"
  },
  "language_info": {
   "codemirror_mode": {
    "name": "ipython",
    "version": 3
   },
   "file_extension": ".py",
   "mimetype": "text/x-python",
   "name": "python",
   "nbconvert_exporter": "python",
   "pygments_lexer": "ipython3",
   "version": "3.7.2"
  }
 },
 "nbformat": 4,
 "nbformat_minor": 4
}
