{
 "cells": [
  {
   "cell_type": "code",
   "execution_count": 44,
   "metadata": {},
   "outputs": [],
   "source": [
    "class person:\n",
    "    nationality=\"indian\"# class variablles , static variables\n",
    "    def __init__(self,pname,pcollege,pan):\n",
    "        self.name=pname# instance variable\n",
    "        self.college=pcollege\n",
    "        self.pan=pan\n",
    "    def __secretPanNo(self):\n",
    "        print(self.pan)\n",
    "    def getPanNo(self):\n",
    "        self.__secretPanNo()\n",
    "    def introduce(self):\n",
    "        print( self.name,self.college,self.nationality,sep=\" , \")"
   ]
  },
  {
   "cell_type": "code",
   "execution_count": 41,
   "metadata": {},
   "outputs": [
    {
     "name": "stdout",
     "output_type": "stream",
     "text": [
      "kunal ,  thapar , indian\n"
     ]
    },
    {
     "data": {
      "text/plain": [
       "'indian'"
      ]
     },
     "execution_count": 41,
     "metadata": {},
     "output_type": "execute_result"
    }
   ],
   "source": [
    "p=person(\"kunal\",\" thapar\",\"2312232\")\n",
    "p.introduce()\n",
    "person.nationality\n"
   ]
  },
  {
   "cell_type": "code",
   "execution_count": 17,
   "metadata": {},
   "outputs": [
    {
     "data": {
      "text/plain": [
       "'indian'"
      ]
     },
     "execution_count": 17,
     "metadata": {},
     "output_type": "execute_result"
    }
   ],
   "source": [
    "person.nationality"
   ]
  },
  {
   "cell_type": "code",
   "execution_count": 48,
   "metadata": {},
   "outputs": [
    {
     "name": "stdout",
     "output_type": "stream",
     "text": [
      "2312232\n"
     ]
    }
   ],
   "source": [
    "p.getPanNo()"
   ]
  },
  {
   "cell_type": "markdown",
   "metadata": {},
   "source": [
    "# inheritance"
   ]
  },
  {
   "cell_type": "code",
   "execution_count": 64,
   "metadata": {},
   "outputs": [],
   "source": [
    "class schoolmember:\n",
    "    def  __init__( self,name,age):\n",
    "        self.name=name;\n",
    "        self.age=age;\n",
    "    def introduce(self):\n",
    "        print( \" name is {} and age is {}\".format(self.name,self.age))\n",
    "        "
   ]
  },
  {
   "cell_type": "markdown",
   "metadata": {},
   "source": [
    "  # base classm"
   ]
  },
  {
   "cell_type": "code",
   "execution_count": 65,
   "metadata": {},
   "outputs": [],
   "source": [
    "class teacher(schoolmember):\n",
    "    def __init__(self,name,age,salary):\n",
    "        schoolmember.__init__( self,name,age)\n",
    "        self.salary=salary\n",
    "    def introduce(self):\n",
    "        schoolmember.introduce(self)\n",
    "        print( \" salary is %d\"% self.salary)\n",
    "        "
   ]
  },
  {
   "cell_type": "code",
   "execution_count": 66,
   "metadata": {},
   "outputs": [
    {
     "name": "stdout",
     "output_type": "stream",
     "text": [
      " name is kk and age is 23\n",
      " salary is 200001\n"
     ]
    }
   ],
   "source": [
    "t=teacher(\"kk\",23,200001)\n",
    "t.introduce()"
   ]
  },
  {
   "cell_type": "code",
   "execution_count": null,
   "metadata": {},
   "outputs": [],
   "source": []
  }
 ],
 "metadata": {
  "kernelspec": {
   "display_name": "Python 3",
   "language": "python",
   "name": "python3"
  },
  "language_info": {
   "codemirror_mode": {
    "name": "ipython",
    "version": 3
   },
   "file_extension": ".py",
   "mimetype": "text/x-python",
   "name": "python",
   "nbconvert_exporter": "python",
   "pygments_lexer": "ipython3",
   "version": "3.7.2"
  }
 },
 "nbformat": 4,
 "nbformat_minor": 4
}
